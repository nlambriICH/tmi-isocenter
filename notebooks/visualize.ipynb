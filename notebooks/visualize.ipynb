{
 "cells": [
  {
   "cell_type": "code",
   "execution_count": null,
   "metadata": {},
   "outputs": [],
   "source": [
    "import glob\n",
    "import pydicom\n",
    "import os\n",
    "import numpy as np\n",
    "import pandas as pd\n",
    "from rt_utils import RTStructBuilder\n",
    "from src.data.dicom_preprocess import (\n",
    "    filter_ptv_name,\n",
    "    filter_junction_name,\n",
    "    get_ptv_mask_3d,\n",
    "    get_dicom_field_geometry,\n",
    "    transform_field_geometry,\n",
    ")\n",
    "from src.config.constants import (\n",
    "    MAP_ID_PTV,\n",
    "    MAP_ID_JUNCTION,\n",
    "    DICOM_DIR_TEST_PATH,\n",
    "    CLASSIFICATION,\n",
    ")"
   ]
  },
  {
   "cell_type": "code",
   "execution_count": null,
   "metadata": {},
   "outputs": [],
   "source": [
    "# Load existing RT Struct. Requires the series path and existing RT Struct path\n",
    "rt_struct_path = glob.glob(os.path.join(DICOM_DIR_TEST_PATH, \"RTSTRUCT*\"))[0]\n",
    "rtstruct = RTStructBuilder.create_from(\n",
    "    dicom_series_path=DICOM_DIR_TEST_PATH,\n",
    "    rt_struct_path=rt_struct_path,\n",
    ")\n",
    "\n",
    "ptv_name = (\n",
    "    MAP_ID_PTV[rtstruct.ds.PatientID]\n",
    "    if rtstruct.ds.PatientID in MAP_ID_PTV\n",
    "    else next(filter(filter_ptv_name, rtstruct.get_roi_names()))\n",
    ")\n",
    "\n",
    "# Loading the 3D Mask from within the RT Struct\n",
    "mask_3d_ptv = rtstruct.get_roi_mask_by_name(ptv_name)\n",
    "\n",
    "# Retrieve PTV junction names\n",
    "junction_names = (\n",
    "    MAP_ID_JUNCTION[rtstruct.ds.PatientID]\n",
    "    if rtstruct.ds.PatientID in MAP_ID_JUNCTION\n",
    "    else list(filter(filter_junction_name, rtstruct.get_roi_names()))\n",
    ")\n",
    "\n",
    "mask_3d = get_ptv_mask_3d(\n",
    "    rtstruct, ptv_name, junction_names\n",
    ")  # axis0=y, axis1=x, axis2=z\n",
    "\n",
    "rt_plan_path = glob.glob(os.path.join(DICOM_DIR_TEST_PATH, \"RTPLAN*\"))[0]\n",
    "ds = pydicom.read_file(rt_plan_path)\n",
    "isocenters, jaw_X, jaw_Y, coll_angles = get_dicom_field_geometry(\n",
    "    rtstruct.series_data, ds\n",
    ")\n",
    "\n",
    "# Create 3D array\n",
    "series_data = rtstruct.series_data\n",
    "img_shape = list(series_data[0].pixel_array.shape)\n",
    "img_shape.append(len(series_data))\n",
    "img_3d = np.zeros(img_shape)\n",
    "\n",
    "for i, s in enumerate(series_data):\n",
    "    img_2d = s.pixel_array\n",
    "    img_3d[:, :, i] = img_2d\n",
    "\n",
    "iso_pixel, jaw_X_pix, jaw_Y_pix = transform_field_geometry(\n",
    "    rtstruct.series_data, isocenters, jaw_X, jaw_Y\n",
    ")"
   ]
  },
  {
   "attachments": {},
   "cell_type": "markdown",
   "metadata": {},
   "source": [
    "## Plot"
   ]
  },
  {
   "cell_type": "code",
   "execution_count": null,
   "metadata": {},
   "outputs": [],
   "source": [
    "import matplotlib.pyplot as plt\n",
    "from matplotlib.patches import Rectangle"
   ]
  },
  {
   "cell_type": "code",
   "execution_count": null,
   "metadata": {},
   "outputs": [],
   "source": [
    "slice_thickness = series_data[0].SliceThickness\n",
    "pix_spacing = series_data[0].PixelSpacing[0]\n",
    "aspect_ratio = series_data[0].SliceThickness / series_data[0].PixelSpacing[0]\n",
    "\n",
    "\n",
    "def add_rectangle_patch(\n",
    "    ax: plt.Axes,\n",
    "    anchor: tuple[float, float],\n",
    "    width: float,\n",
    "    height: float,\n",
    "    rotation_point: tuple[float, float],\n",
    "    angle: float,\n",
    ") -> None:\n",
    "    ax.add_patch(\n",
    "        Rectangle(\n",
    "            anchor,\n",
    "            width,\n",
    "            height,\n",
    "            angle=angle,\n",
    "            rotation_point=rotation_point,\n",
    "            linewidth=1,\n",
    "            edgecolor=\"r\",\n",
    "            facecolor=\"none\",\n",
    "        )\n",
    "    )\n",
    "\n",
    "\n",
    "def plot_fields(\n",
    "    ax: plt.Axes,\n",
    "    iso_pixel: np.ndarray,\n",
    "    jaw_X_pixel: np.ndarray,\n",
    "    jaw_Y_pixel: np.ndarray,\n",
    "    coll_angles: np.ndarray,\n",
    ") -> None:\n",
    "    \"\"\"\n",
    "        Plots rectangular fields on a given Matplotlib Axes object and their relative isocenters.\n",
    "\n",
    "    Args:\n",
    "        ax (matplotlib.axes.Axes): The Axes object to plot the fields on.\n",
    "        iso_pixel (numpy.ndarray): An array of shape (n_fields, 3) representing the pixel coordinates of the isocenter for each field.\n",
    "        jaw_X_pixel (numpy.ndarray): An array of shape (n_fields, 2) representing the jaw apertures along X (mm)\n",
    "        jaw_Y_pixel (numpy.ndarray): An array of shape (n_fields, 2) representing the jaw apertures along Y (mm)\n",
    "        coll_angles (numpy.ndarray): An array of shape (n_fields,) containing the collimator angles in degrees for each field.\n",
    "\n",
    "    Returns:\n",
    "        None\n",
    "\n",
    "    Notes:\n",
    "        The function plots a rectangle for each field on the given Axes object, with the isocenter pixel as the center of the rectangle.\n",
    "        The position and size of the rectangle are determined by the jaw positions and collimator angle.\n",
    "        If the collimator angle is not 90 degrees, the rectangle is rotated to 0 degrees for visualization.\n",
    "        If the collimator angle is 90 degrees, the rectangle is scaled by the aspect ratio to account for the non-square pixel aspect ratio.\n",
    "    \"\"\"\n",
    "    for i, (iso, X, Y, angle) in enumerate(\n",
    "        zip(\n",
    "            iso_pixel,\n",
    "            jaw_X_pixel,\n",
    "            jaw_Y_pixel,\n",
    "            coll_angles,\n",
    "        )\n",
    "    ):\n",
    "        if all(iso == 0):\n",
    "            continue  # isocenter not present, skip field\n",
    "        iso_pixel_col, iso_pixel_row = iso[2], iso[0]\n",
    "        offset_col = Y[0]\n",
    "        offset_row = X[1]\n",
    "        width = Y[1] - Y[0]\n",
    "        height = X[1] - X[0]\n",
    "\n",
    "        if angle != 90:\n",
    "            print(\n",
    "                f\"Collimator angle for field {i + 1} was {angle}°. Plotting with angle=0° for visualization\"\n",
    "            )\n",
    "            angle = 0\n",
    "        elif angle == 90:\n",
    "            offset_col *= aspect_ratio\n",
    "            offset_row /= aspect_ratio\n",
    "            width *= aspect_ratio\n",
    "            height /= aspect_ratio\n",
    "        add_rectangle_patch(\n",
    "            ax,\n",
    "            (iso_pixel_col + offset_col, iso_pixel_row - offset_row),\n",
    "            width,\n",
    "            height,\n",
    "            (iso_pixel_col, iso_pixel_row),\n",
    "            angle,\n",
    "        )"
   ]
  },
  {
   "cell_type": "code",
   "execution_count": null,
   "metadata": {},
   "outputs": [],
   "source": [
    "# Display one slice of the region\n",
    "plt.imshow(img_3d[mask_3d.shape[0] // 2, :, :], cmap=\"gray\", aspect=1 / aspect_ratio)\n",
    "plt.contourf(mask_3d[mask_3d.shape[0] // 2, :, :], alpha=0.25)\n",
    "plt.scatter(iso_pixel[:, 2], iso_pixel[:, 0], color=\"red\", s=10)\n",
    "plot_fields(plt.gca(), iso_pixel, jaw_X_pix, jaw_Y_pix, coll_angles)\n",
    "\n",
    "plt.show()"
   ]
  },
  {
   "cell_type": "markdown",
   "metadata": {},
   "source": [
    "### Visualize all PTV's ###"
   ]
  },
  {
   "cell_type": "code",
   "execution_count": null,
   "metadata": {},
   "outputs": [],
   "source": [
    "path = os.getcwd()\n",
    "path = os.path.join(path, os.pardir)\n",
    "\n",
    "if CLASSIFICATION:\n",
    "    dir_path = path + r\"\\data\\5_355\"\n",
    "else:\n",
    "    dir_path = path + r\"\\data\\90\""
   ]
  },
  {
   "cell_type": "code",
   "execution_count": null,
   "metadata": {},
   "outputs": [],
   "source": [
    "df_patient_info = pd.read_csv(path + r\"\\data\\patient_info.csv\")\n",
    "slice_tickness_col_idx = df_patient_info.columns.get_loc(\"SliceThickness\")\n",
    "pixel_spacing_col_idx = df_patient_info.columns.get_loc(\"PixelSpacing\")"
   ]
  },
  {
   "cell_type": "code",
   "execution_count": null,
   "metadata": {},
   "outputs": [],
   "source": [
    "with np.load(dir_path + r\"\\raw\\ptv_masks2D.npz\") as npz_mask:\n",
    "    ptv_masks2D = list(npz_mask.values())"
   ]
  },
  {
   "cell_type": "code",
   "execution_count": null,
   "metadata": {},
   "outputs": [],
   "source": [
    "with np.load(dir_path + r\"\\raw\\ptv_imgs2D.npz\") as npz_ptv_imgs2d:\n",
    "    ptv_imgs2D = list(npz_ptv_imgs2d.values())"
   ]
  },
  {
   "cell_type": "code",
   "execution_count": null,
   "metadata": {},
   "outputs": [],
   "source": [
    "import matplotlib.pyplot as plt\n",
    "\n",
    "fig, axes = plt.subplots(11, 10, figsize=(20, 20))\n",
    "\n",
    "for idx, (ptv_img, ax) in enumerate(zip(ptv_imgs2D, axes.flat)):\n",
    "    aspect_ratio = (\n",
    "        df_patient_info.iloc[idx, slice_tickness_col_idx]\n",
    "        / df_patient_info.iloc[idx, pixel_spacing_col_idx]\n",
    "    )\n",
    "    ax.imshow(ptv_img, cmap=\"gray\", aspect=1 / aspect_ratio)\n",
    "\n",
    "plt.tight_layout()"
   ]
  },
  {
   "cell_type": "code",
   "execution_count": null,
   "metadata": {},
   "outputs": [],
   "source": []
  }
 ],
 "metadata": {
  "kernelspec": {
   "display_name": "venv",
   "language": "python",
   "name": "python3"
  },
  "language_info": {
   "codemirror_mode": {
    "name": "ipython",
    "version": 3
   },
   "file_extension": ".py",
   "mimetype": "text/x-python",
   "name": "python",
   "nbconvert_exporter": "python",
   "pygments_lexer": "ipython3",
   "version": "3.10.10"
  },
  "vscode": {
   "interpreter": {
    "hash": "8045f6b11d2c3b949ec5824a8d4aec68127f7a46eeb305caad86431a03927290"
   }
  }
 },
 "nbformat": 4,
 "nbformat_minor": 2
}
