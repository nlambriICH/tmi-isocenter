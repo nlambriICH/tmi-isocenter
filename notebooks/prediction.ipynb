{
 "cells": [
  {
   "cell_type": "code",
   "execution_count": null,
   "metadata": {},
   "outputs": [],
   "source": [
    "from lightning import Trainer\n",
    "from torch.utils.data import DataLoader\n",
    "from src.config.constants import NUM_WORKERS, MODEL, COLL_5_355"
   ]
  },
  {
   "cell_type": "code",
   "execution_count": null,
   "metadata": {},
   "outputs": [],
   "source": [
    "if MODEL == \"arms\":\n",
    "    from src.data.dataset_arms import DatasetArms\n",
    "    from src.modules.arms_cnn import ArmsCNN\n",
    "\n",
    "    if COLL_5_355:\n",
    "        name = \"arms_model_5_355\"\n",
    "        checkpoint = r\"C:\\Users\\brand\\Desktop\\tmi-isocenter\\lightning_logs\\arms_model_5_355\\version_15\\checkpoints\\epoch=19-step=160.ckpt\"\n",
    "    else:\n",
    "        lightning_cnn = ArmsCNN()\n",
    "        name = \"arms_model_90\"\n",
    "\n",
    "    dataset = DatasetArms().prediction_dataset()\n",
    "    lightning_cnn = ArmsCNN().load_from_checkpoint(checkpoint_path=checkpoint)\n",
    "elif MODEL == \"body\":\n",
    "    from src.data.dataset_body import DatasetBody\n",
    "    from src.modules.body_cnn import BodyCNN\n",
    "\n",
    "    if COLL_5_355:\n",
    "        name = \"body_model_5_355\"\n",
    "        checkpoint = r\"C:\\Users\\brand\\Desktop\\tmi-isocenter\\lightning_logs\\body_model_5_355\\version_45\\checkpoints\\epoch=47-step=912.ckpt\"\n",
    "    else:\n",
    "        name = \"body_model_90\"\n",
    "    dataset = DatasetBody().prediction_dataset()\n",
    "    lightning_cnn = BodyCNN().load_from_checkpoint(checkpoint_path=checkpoint)\n",
    "else:\n",
    "    from src.data.dataset import Dataset\n",
    "    from src.modules.lightning_cnn import LitCNN\n",
    "\n",
    "    checkpoint = r\"C:\\Users\\brand\\Desktop\\tmi-isocenter\\lightning_logs\\body_model_5_355\\version_45\\checkpoints\\epoch=47-step=912.ckpt\"\n",
    "    dataset = Dataset().prediction_dataset()\n",
    "    lightning_cnn = LitCNN().load_from_checkpoint(checkpoint_path=checkpoint)\n",
    "    name = \"whole_model\""
   ]
  },
  {
   "cell_type": "code",
   "execution_count": null,
   "metadata": {},
   "outputs": [],
   "source": [
    "prediction_loader = DataLoader(\n",
    "    dataset,\n",
    "    num_workers=NUM_WORKERS,\n",
    ")\n",
    "\n",
    "trainer = Trainer()"
   ]
  },
  {
   "cell_type": "code",
   "execution_count": null,
   "metadata": {},
   "outputs": [],
   "source": [
    "trainer.predict(lightning_cnn, dataloaders=prediction_loader, ckpt_path=None)"
   ]
  }
 ],
 "metadata": {
  "kernelspec": {
   "display_name": "venv",
   "language": "python",
   "name": "python3"
  },
  "language_info": {
   "codemirror_mode": {
    "name": "ipython",
    "version": 3
   },
   "file_extension": ".py",
   "mimetype": "text/x-python",
   "name": "python",
   "nbconvert_exporter": "python",
   "pygments_lexer": "ipython3",
   "version": "3.11.4"
  }
 },
 "nbformat": 4,
 "nbformat_minor": 2
}
