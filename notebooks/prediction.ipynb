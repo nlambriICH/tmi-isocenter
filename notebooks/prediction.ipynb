{
 "cells": [
  {
   "cell_type": "code",
   "execution_count": null,
   "metadata": {},
   "outputs": [],
   "source": [
    "from lightning import Trainer\n",
    "from torch.utils.data import DataLoader\n",
    "from src.config.constants import NUM_WORKERS, MODEL"
   ]
  },
  {
   "cell_type": "code",
   "execution_count": null,
   "metadata": {},
   "outputs": [],
   "source": [
    "ckpt_path = rf\"..\\models\\{MODEL}_model\\final_version_thesis_5_355\\checkpoints\\epoch=16-step=323.ckpt\""
   ]
  },
  {
   "cell_type": "code",
   "execution_count": null,
   "metadata": {},
   "outputs": [],
   "source": [
    "if MODEL == \"arms\":\n",
    "    from src.data.dataset_arms import DatasetArms\n",
    "    from src.modules.arms_cnn import ArmsCNN\n",
    "\n",
    "    dataset = DatasetArms().prediction_dataset()\n",
    "    lightning_cnn = ArmsCNN().load_from_checkpoint(checkpoint_path=ckpt_path)\n",
    "elif MODEL == \"body\":\n",
    "    from src.data.dataset_body import DatasetBody\n",
    "    from src.modules.body_cnn import BodyCNN\n",
    "\n",
    "    dataset = DatasetBody().prediction_dataset()\n",
    "    lightning_cnn = BodyCNN().load_from_checkpoint(checkpoint_path=ckpt_path)\n",
    "else:\n",
    "    from src.data.dataset import Dataset\n",
    "    from src.modules.lightning_cnn import LitCNN\n",
    "\n",
    "    dataset = Dataset().prediction_dataset()\n",
    "    lightning_cnn = LitCNN().load_from_checkpoint(checkpoint_path=ckpt_path)"
   ]
  },
  {
   "cell_type": "code",
   "execution_count": null,
   "metadata": {},
   "outputs": [],
   "source": [
    "prediction_loader = DataLoader(\n",
    "    dataset,\n",
    "    num_workers=NUM_WORKERS,\n",
    ")\n",
    "\n",
    "trainer = Trainer(logger=False)"
   ]
  },
  {
   "cell_type": "code",
   "execution_count": null,
   "metadata": {},
   "outputs": [],
   "source": [
    "trainer.predict(lightning_cnn, dataloaders=prediction_loader, return_predictions=False)"
   ]
  }
 ],
 "metadata": {
  "kernelspec": {
   "display_name": "venv",
   "language": "python",
   "name": "python3"
  },
  "language_info": {
   "codemirror_mode": {
    "name": "ipython",
    "version": 3
   },
   "file_extension": ".py",
   "mimetype": "text/x-python",
   "name": "python",
   "nbconvert_exporter": "python",
   "pygments_lexer": "ipython3",
   "version": "3.11.1"
  }
 },
 "nbformat": 4,
 "nbformat_minor": 2
}
